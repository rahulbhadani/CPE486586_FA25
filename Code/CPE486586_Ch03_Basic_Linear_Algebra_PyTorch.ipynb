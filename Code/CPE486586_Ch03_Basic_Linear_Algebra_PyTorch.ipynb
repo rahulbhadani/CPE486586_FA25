{
 "cells": [
  {
   "cell_type": "markdown",
   "metadata": {},
   "source": [
    "# CPE 486/586: Machine Learning for Engineering Applications\n",
    "## Instructor and Author of this notebook: Rahul Bhadani"
   ]
  },
  {
   "cell_type": "markdown",
   "metadata": {},
   "source": [
    "# Basic Linear Algebra in PyTorch"
   ]
  },
  {
   "cell_type": "code",
   "execution_count": 3,
   "id": "76bf18c2",
   "metadata": {},
   "outputs": [],
   "source": [
    "import torch\n",
    "import numpy as np\n",
    "from torch import linalg as LA"
   ]
  },
  {
   "cell_type": "markdown",
   "id": "ba074e81",
   "metadata": {},
   "source": [
    "# VECTORS - BASIC OPERATIONS"
   ]
  },
  {
   "cell_type": "markdown",
   "id": "94b9cb00",
   "metadata": {},
   "source": [
    "## Column Vector Creation"
   ]
  },
  {
   "cell_type": "code",
   "execution_count": null,
   "id": "430dbf38",
   "metadata": {},
   "outputs": [],
   "source": [
    "\n",
    "print(\"Column Vectors:\")\n",
    "v_col = torch.tensor([[1], [2], [3]], dtype=torch.float32)\n",
    "print(f\"Column vector v: \\n{v_col}\")\n",
    "print(f\"Shape: {v_col.shape}\")"
   ]
  },
  {
   "cell_type": "markdown",
   "id": "b5f1037b",
   "metadata": {},
   "source": [
    "## Row Vectors"
   ]
  },
  {
   "cell_type": "code",
   "execution_count": null,
   "id": "6c9fadf8",
   "metadata": {},
   "outputs": [],
   "source": [
    "print(\"\\nRow Vectors:\")\n",
    "v_row = torch.tensor([[1, 2, 3]], dtype=torch.float32)\n",
    "print(f\"Row vector v: \\n{v_row}\")\n",
    "print(f\"Shape: {v_row.shape}\")"
   ]
  },
  {
   "cell_type": "markdown",
   "id": "a85f6786",
   "metadata": {},
   "source": [
    "## 1D Vector"
   ]
  },
  {
   "cell_type": "code",
   "execution_count": 4,
   "id": "28b762ec",
   "metadata": {},
   "outputs": [
    {
     "name": "stdout",
     "output_type": "stream",
     "text": [
      "\n",
      "1D Vectors (No row/column distinction):\n",
      "1D vector v: tensor([1., 2., 3.])\n",
      "Shape: torch.Size([3])\n"
     ]
    }
   ],
   "source": [
    "print(\"\\n1D Vectors (No row/column distinction):\")\n",
    "v_1d = torch.tensor([1, 2, 3], dtype=torch.float32)\n",
    "print(f\"1D vector v: {v_1d}\")\n",
    "print(f\"Shape: {v_1d.shape}\")"
   ]
  },
  {
   "cell_type": "markdown",
   "id": "5dd74c90",
   "metadata": {},
   "source": [
    "# VECTOR OPERATIONS"
   ]
  },
  {
   "cell_type": "markdown",
   "id": "2faddd24",
   "metadata": {},
   "source": [
    "## Elementwise Vector Multiplication\n"
   ]
  },
  {
   "cell_type": "code",
   "execution_count": 5,
   "id": "40b45a09",
   "metadata": {},
   "outputs": [
    {
     "name": "stdout",
     "output_type": "stream",
     "text": [
      "Elementwise Vector Multiplication:\n",
      "v = \n",
      "tensor([[1.],\n",
      "        [2.],\n",
      "        [3.]])\n",
      "w = \n",
      "tensor([[3.],\n",
      "        [4.],\n",
      "        [5.]])\n",
      "v * w (elementwise) = \n",
      "tensor([[ 3.],\n",
      "        [ 8.],\n",
      "        [15.]])\n"
     ]
    }
   ],
   "source": [
    "print(\"Elementwise Vector Multiplication:\")\n",
    "v = torch.tensor([[1], [2], [3]], dtype=torch.float32)\n",
    "w = torch.tensor([[3], [4], [5]], dtype=torch.float32)\n",
    "u_elementwise = v * w\n",
    "print(f\"v = \\n{v}\")\n",
    "print(f\"w = \\n{w}\")\n",
    "print(f\"v * w (elementwise) = \\n{u_elementwise}\")"
   ]
  },
  {
   "cell_type": "markdown",
   "id": "f941a26b",
   "metadata": {},
   "source": [
    "## Vector Dot Product"
   ]
  },
  {
   "cell_type": "code",
   "execution_count": 6,
   "id": "07ddccb5",
   "metadata": {},
   "outputs": [
    {
     "name": "stdout",
     "output_type": "stream",
     "text": [
      "\n",
      "Vector Dot Product:\n",
      "v = tensor([1., 2., 3.])\n",
      "w = tensor([3., 4., 5.])\n",
      "v · w = 26.0\n"
     ]
    }
   ],
   "source": [
    "print(\"\\nVector Dot Product:\")\n",
    "v_1d = torch.tensor([1, 2, 3], dtype=torch.float32)\n",
    "w_1d = torch.tensor([3, 4, 5], dtype=torch.float32)\n",
    "dot_product = torch.dot(v_1d, w_1d)\n",
    "print(f\"v = {v_1d}\")\n",
    "print(f\"w = {w_1d}\")\n",
    "print(f\"v · w = {dot_product}\")\n"
   ]
  },
  {
   "cell_type": "markdown",
   "id": "c58f6a93",
   "metadata": {},
   "source": [
    "## Dot product using matrix multiplication"
   ]
  },
  {
   "cell_type": "code",
   "execution_count": 7,
   "id": "3f4b938d",
   "metadata": {},
   "outputs": [
    {
     "name": "stdout",
     "output_type": "stream",
     "text": [
      "v^T @ w = tensor([[26.]])\n"
     ]
    }
   ],
   "source": [
    "dot_product_alt = v.T @ w\n",
    "print(f\"v^T @ w = {dot_product_alt}\")"
   ]
  },
  {
   "cell_type": "markdown",
   "id": "bab7dea4",
   "metadata": {},
   "source": [
    "## Vector Norms"
   ]
  },
  {
   "cell_type": "code",
   "execution_count": 9,
   "id": "75fd19c0",
   "metadata": {},
   "outputs": [
    {
     "name": "stdout",
     "output_type": "stream",
     "text": [
      "Vector v = tensor([1., 2., 3.])\n",
      "L1 norm (Manhattan): ||v||_1 = 6.0\n",
      "L2 norm (Euclidean): ||v||_2 = 3.7416574954986572\n",
      "Max norm (Infinity): ||v||_∞ = 3.0\n"
     ]
    }
   ],
   "source": [
    "v = torch.tensor([1, 2, 3], dtype=torch.float32)\n",
    "print(f\"Vector v = {v}\")\n",
    "\n",
    "l1_norm = torch.norm(v, p=1)\n",
    "print(f\"L1 norm (Manhattan): ||v||_1 = {l1_norm}\")\n",
    "\n",
    "# L2 Norm (Euclidean Norm)\n",
    "l2_norm = torch.norm(v, p=2)  # or simply torch.norm(v)\n",
    "print(f\"L2 norm (Euclidean): ||v||_2 = {l2_norm}\")\n",
    "\n",
    "max_norm = torch.norm(v, p=float('inf'))\n",
    "print(f\"Max norm (Infinity): ||v||_∞ = {max_norm}\")"
   ]
  },
  {
   "cell_type": "markdown",
   "id": "64e34641",
   "metadata": {},
   "source": [
    "# VECTOR BROADCASTING"
   ]
  },
  {
   "cell_type": "markdown",
   "id": "f43f0977",
   "metadata": {},
   "source": [
    "## Row + Column broadcasting"
   ]
  },
  {
   "cell_type": "code",
   "execution_count": 10,
   "id": "c447a51b",
   "metadata": {},
   "outputs": [
    {
     "name": "stdout",
     "output_type": "stream",
     "text": [
      "Row vector (1x3): tensor([[1., 5., 6.]])\n",
      "Column vector (3x1): \n",
      "tensor([[10.],\n",
      "        [20.],\n",
      "        [30.]])\n",
      "Broadcasting result (3x3): \n",
      "tensor([[11., 15., 16.],\n",
      "        [21., 25., 26.],\n",
      "        [31., 35., 36.]])\n"
     ]
    }
   ],
   "source": [
    "v_row = torch.tensor([[1, 5, 6]], dtype=torch.float32)  # 1x3\n",
    "w_col = torch.tensor([[10], [20], [30]], dtype=torch.float32)  # 3x1\n",
    "result = v_row + w_col\n",
    "print(f\"Row vector (1x3): {v_row}\")\n",
    "print(f\"Column vector (3x1): \\n{w_col}\")\n",
    "print(f\"Broadcasting result (3x3): \\n{result}\")"
   ]
  },
  {
   "cell_type": "markdown",
   "id": "d1905dc3",
   "metadata": {},
   "source": [
    "## Example 2"
   ]
  },
  {
   "cell_type": "code",
   "execution_count": 11,
   "id": "6a05b1bc",
   "metadata": {},
   "outputs": [
    {
     "name": "stdout",
     "output_type": "stream",
     "text": [
      "\n",
      "Broadcasting Example 2:\n",
      "Column vector (3x1): \n",
      "tensor([[1.],\n",
      "        [2.],\n",
      "        [3.]])\n",
      "Row vector (1x2): tensor([[10., 20.]])\n",
      "Broadcasting result (3x2): \n",
      "tensor([[11., 21.],\n",
      "        [12., 22.],\n",
      "        [13., 23.]])\n"
     ]
    }
   ],
   "source": [
    "print(\"\\nBroadcasting Example 2:\")\n",
    "v_col = torch.tensor([[1], [2], [3]], dtype=torch.float32)  # 3x1\n",
    "w_row = torch.tensor([[10, 20]], dtype=torch.float32)  # 1x2\n",
    "result2 = v_col + w_row\n",
    "print(f\"Column vector (3x1): \\n{v_col}\")\n",
    "print(f\"Row vector (1x2): {w_row}\")\n",
    "print(f\"Broadcasting result (3x2): \\n{result2}\")"
   ]
  },
  {
   "cell_type": "markdown",
   "id": "ec6b8900",
   "metadata": {},
   "source": [
    "# Matrices"
   ]
  },
  {
   "cell_type": "markdown",
   "id": "235b8597",
   "metadata": {},
   "source": [
    "## Rectangular Matrix"
   ]
  },
  {
   "cell_type": "code",
   "execution_count": 12,
   "id": "b1c7137e",
   "metadata": {},
   "outputs": [
    {
     "name": "stdout",
     "output_type": "stream",
     "text": [
      "Rectangular Matrix:\n",
      "Matrix A: \n",
      "tensor([[1., 2., 3.],\n",
      "        [4., 5., 6.]])\n",
      "Shape: torch.Size([2, 3])\n"
     ]
    }
   ],
   "source": [
    "\n",
    "print(\"Rectangular Matrix:\")\n",
    "A = torch.tensor([[1, 2, 3], [4, 5, 6]], dtype=torch.float32)\n",
    "print(f\"Matrix A: \\n{A}\")\n",
    "print(f\"Shape: {A.shape}\")"
   ]
  },
  {
   "cell_type": "markdown",
   "id": "115c1423",
   "metadata": {},
   "source": [
    "## Hadamard Product (Elementwise Multiplication)"
   ]
  },
  {
   "cell_type": "code",
   "execution_count": 13,
   "id": "ee7c62e1",
   "metadata": {},
   "outputs": [
    {
     "name": "stdout",
     "output_type": "stream",
     "text": [
      "Hadamard Product (Elementwise):\n",
      "A = \n",
      "tensor([[1., 2., 3.],\n",
      "        [4., 5., 6.]])\n",
      "B = \n",
      "tensor([[1., 2., 3.],\n",
      "        [4., 5., 6.]])\n",
      "A ∘ B (Hadamard) = \n",
      "tensor([[ 1.,  4.,  9.],\n",
      "        [16., 25., 36.]])\n"
     ]
    }
   ],
   "source": [
    "print(\"Hadamard Product (Elementwise):\")\n",
    "A = torch.tensor([[1, 2, 3], [4, 5, 6]], dtype=torch.float32)\n",
    "B = torch.tensor([[1, 2, 3], [4, 5, 6]], dtype=torch.float32)\n",
    "C_hadamard = A * B\n",
    "print(f\"A = \\n{A}\")\n",
    "print(f\"B = \\n{B}\")\n",
    "print(f\"A ∘ B (Hadamard) = \\n{C_hadamard}\")"
   ]
  },
  {
   "cell_type": "markdown",
   "id": "59df081b",
   "metadata": {},
   "source": [
    "## Matrix-Matrix Multiplication"
   ]
  },
  {
   "cell_type": "code",
   "execution_count": 14,
   "id": "1d340928",
   "metadata": {},
   "outputs": [
    {
     "name": "stdout",
     "output_type": "stream",
     "text": [
      "\n",
      "Matrix-Matrix Multiplication:\n",
      "A = \n",
      "tensor([[1., 2.],\n",
      "        [3., 4.]])\n",
      "B = \n",
      "tensor([[5., 6.],\n",
      "        [7., 8.]])\n",
      "A @ B = \n",
      "tensor([[19., 22.],\n",
      "        [43., 50.]])\n"
     ]
    }
   ],
   "source": [
    "print(\"\\nMatrix-Matrix Multiplication:\")\n",
    "A = torch.tensor([[1, 2], [3, 4]], dtype=torch.float32)\n",
    "B = torch.tensor([[5, 6], [7, 8]], dtype=torch.float32)\n",
    "C_matmul = torch.matmul(A, B)  # or A @ B\n",
    "print(f\"A = \\n{A}\")\n",
    "print(f\"B = \\n{B}\")\n",
    "print(f\"A @ B = \\n{C_matmul}\")\n"
   ]
  },
  {
   "cell_type": "markdown",
   "id": "9517a0be",
   "metadata": {},
   "source": [
    "## Upper Triangular Matrix\n"
   ]
  },
  {
   "cell_type": "code",
   "execution_count": 15,
   "id": "44e20603",
   "metadata": {},
   "outputs": [
    {
     "name": "stdout",
     "output_type": "stream",
     "text": [
      "Upper Triangular Matrix:\n",
      "Upper triangular A = \n",
      "tensor([[1., 2., 3.],\n",
      "        [0., 4., 5.],\n",
      "        [0., 0., 6.]])\n"
     ]
    }
   ],
   "source": [
    "print(\"Upper Triangular Matrix:\")\n",
    "A_upper = torch.tensor([[1, 2, 3], [0, 4, 5], [0, 0, 6]], dtype=torch.float32)\n",
    "print(f\"Upper triangular A = \\n{A_upper}\")"
   ]
  },
  {
   "cell_type": "markdown",
   "id": "f63c1693",
   "metadata": {},
   "source": [
    "## Lower Triangular Matrix"
   ]
  },
  {
   "cell_type": "code",
   "execution_count": 16,
   "id": "b3f7d17b",
   "metadata": {},
   "outputs": [
    {
     "name": "stdout",
     "output_type": "stream",
     "text": [
      "\n",
      "Lower Triangular Matrix:\n",
      "Lower triangular B = \n",
      "tensor([[1., 0., 0.],\n",
      "        [4., 5., 0.],\n",
      "        [7., 8., 9.]])\n"
     ]
    }
   ],
   "source": [
    "print(\"\\nLower Triangular Matrix:\")\n",
    "B_lower = torch.tensor([[1, 0, 0], [4, 5, 0], [7, 8, 9]], dtype=torch.float32)\n",
    "print(f\"Lower triangular B = \\n{B_lower}\")"
   ]
  },
  {
   "cell_type": "markdown",
   "id": "b2fe9de8",
   "metadata": {},
   "source": [
    "## Identity Matrix"
   ]
  },
  {
   "cell_type": "code",
   "execution_count": 17,
   "id": "753d863d",
   "metadata": {},
   "outputs": [
    {
     "name": "stdout",
     "output_type": "stream",
     "text": [
      "\n",
      "Identity Matrix:\n",
      "3x3 Identity matrix I = \n",
      "tensor([[1., 0., 0.],\n",
      "        [0., 1., 0.],\n",
      "        [0., 0., 1.]])\n"
     ]
    }
   ],
   "source": [
    "print(\"\\nIdentity Matrix:\")\n",
    "I = torch.eye(3)\n",
    "print(f\"3x3 Identity matrix I = \\n{I}\")"
   ]
  },
  {
   "cell_type": "markdown",
   "id": "959314e2",
   "metadata": {},
   "source": [
    "## Diagonal Matrix"
   ]
  },
  {
   "cell_type": "code",
   "execution_count": 18,
   "id": "f110d26b",
   "metadata": {},
   "outputs": [
    {
     "name": "stdout",
     "output_type": "stream",
     "text": [
      "\n",
      "Diagonal Matrix:\n",
      "Diagonal matrix D = \n",
      "tensor([[1., 0., 0.],\n",
      "        [0., 2., 0.],\n",
      "        [0., 0., 3.]])\n"
     ]
    }
   ],
   "source": [
    "print(\"\\nDiagonal Matrix:\")\n",
    "D = torch.diag(torch.tensor([1, 2, 3], dtype=torch.float32))\n",
    "print(f\"Diagonal matrix D = \\n{D}\")\n"
   ]
  },
  {
   "cell_type": "markdown",
   "id": "921d2bc0",
   "metadata": {},
   "source": [
    "## Orthogonal Matrix"
   ]
  },
  {
   "cell_type": "code",
   "execution_count": 19,
   "id": "df632feb",
   "metadata": {},
   "outputs": [
    {
     "name": "stdout",
     "output_type": "stream",
     "text": [
      "Q = \n",
      "tensor([[ 1.,  0.],\n",
      "        [ 0., -1.]])\n",
      "Q^T = \n",
      "tensor([[ 1.,  0.],\n",
      "        [ 0., -1.]])\n",
      "Q^(-1) = \n",
      "tensor([[ 1.,  0.],\n",
      "        [-0., -1.]])\n",
      "Q @ Q^T = \n",
      "tensor([[1., 0.],\n",
      "        [0., 1.]])\n"
     ]
    }
   ],
   "source": [
    "Q = torch.tensor([[1, 0], [0, -1]], dtype=torch.float32)\n",
    "Q_transpose = Q.T\n",
    "Q_inverse = torch.inverse(Q)\n",
    "print(f\"Q = \\n{Q}\")\n",
    "print(f\"Q^T = \\n{Q_transpose}\")\n",
    "print(f\"Q^(-1) = \\n{Q_inverse}\")\n",
    "print(f\"Q @ Q^T = \\n{Q @ Q_transpose}\")  # Should be identity"
   ]
  },
  {
   "cell_type": "markdown",
   "id": "0d9974a0",
   "metadata": {},
   "source": [
    "## Transpose"
   ]
  },
  {
   "cell_type": "code",
   "execution_count": 20,
   "id": "6d3450c3",
   "metadata": {},
   "outputs": [
    {
     "name": "stdout",
     "output_type": "stream",
     "text": [
      "Matrix Transpose:\n",
      "A = \n",
      "tensor([[1., 2., 3.],\n",
      "        [4., 5., 6.]])\n",
      "A^T = \n",
      "tensor([[1., 4.],\n",
      "        [2., 5.],\n",
      "        [3., 6.]])\n"
     ]
    }
   ],
   "source": [
    "print(\"Matrix Transpose:\")\n",
    "A = torch.tensor([[1, 2, 3], [4, 5, 6]], dtype=torch.float32)\n",
    "A_transpose = A.T\n",
    "print(f\"A = \\n{A}\")\n",
    "print(f\"A^T = \\n{A_transpose}\")"
   ]
  },
  {
   "cell_type": "markdown",
   "id": "1905a2b6",
   "metadata": {},
   "source": [
    "## Determinant"
   ]
  },
  {
   "cell_type": "code",
   "execution_count": 21,
   "id": "edae04b2",
   "metadata": {},
   "outputs": [
    {
     "name": "stdout",
     "output_type": "stream",
     "text": [
      "\n",
      "Matrix Determinant:\n",
      "A = \n",
      "tensor([[1., 2.],\n",
      "        [3., 4.]])\n",
      "det(A) = -2.0\n"
     ]
    }
   ],
   "source": [
    "print(\"\\nMatrix Determinant:\")\n",
    "A = torch.tensor([[1, 2], [3, 4]], dtype=torch.float32)\n",
    "det_A = torch.det(A)\n",
    "print(f\"A = \\n{A}\")\n",
    "print(f\"det(A) = {det_A}\")"
   ]
  },
  {
   "cell_type": "markdown",
   "id": "99466c02",
   "metadata": {},
   "source": [
    "## Matrix Inverse"
   ]
  },
  {
   "cell_type": "code",
   "execution_count": 22,
   "id": "13bb5ca6",
   "metadata": {},
   "outputs": [
    {
     "name": "stdout",
     "output_type": "stream",
     "text": [
      "\n",
      "Matrix Inverse:\n",
      "A = \n",
      "tensor([[4., 7.],\n",
      "        [2., 6.]])\n",
      "A^(-1) = \n",
      "tensor([[ 0.6000, -0.7000],\n",
      "        [-0.2000,  0.4000]])\n",
      "A @ A^(-1) = \n",
      "tensor([[1., 0.],\n",
      "        [0., 1.]])\n"
     ]
    }
   ],
   "source": [
    "print(\"\\nMatrix Inverse:\")\n",
    "A = torch.tensor([[4, 7], [2, 6]], dtype=torch.float32)\n",
    "A_inv = torch.inverse(A)\n",
    "print(f\"A = \\n{A}\")\n",
    "print(f\"A^(-1) = \\n{A_inv}\")\n",
    "print(f\"A @ A^(-1) = \\n{A @ A_inv}\")  # Should be close to identity"
   ]
  },
  {
   "cell_type": "markdown",
   "id": "59f42967",
   "metadata": {},
   "source": [
    "## Trace"
   ]
  },
  {
   "cell_type": "code",
   "execution_count": 23,
   "id": "cec00de0",
   "metadata": {},
   "outputs": [
    {
     "name": "stdout",
     "output_type": "stream",
     "text": [
      "\n",
      "Matrix Trace:\n",
      "A = \n",
      "tensor([[1., 2.],\n",
      "        [3., 4.]])\n",
      "tr(A) = 5.0\n"
     ]
    }
   ],
   "source": [
    "# Trace\n",
    "print(\"\\nMatrix Trace:\")\n",
    "A = torch.tensor([[1, 2], [3, 4]], dtype=torch.float32)\n",
    "trace_A = torch.trace(A)\n",
    "print(f\"A = \\n{A}\")\n",
    "print(f\"tr(A) = {trace_A}\")\n"
   ]
  },
  {
   "cell_type": "markdown",
   "id": "942e687f",
   "metadata": {},
   "source": [
    "## Rank"
   ]
  },
  {
   "cell_type": "code",
   "execution_count": 24,
   "id": "ee1c999c",
   "metadata": {},
   "outputs": [
    {
     "name": "stdout",
     "output_type": "stream",
     "text": [
      "\n",
      "Matrix Rank:\n",
      "A = \n",
      "tensor([[1., 2., 3.],\n",
      "        [4., 5., 6.],\n",
      "        [7., 8., 9.]])\n",
      "rank(A) = 2\n"
     ]
    }
   ],
   "source": [
    "print(\"\\nMatrix Rank:\")\n",
    "A = torch.tensor([[1, 2, 3], [4, 5, 6], [7, 8, 9]], dtype=torch.float32)\n",
    "rank_A = torch.linalg.matrix_rank(A)\n",
    "print(f\"A = \\n{A}\")\n",
    "print(f\"rank(A) = {rank_A}\")"
   ]
  },
  {
   "cell_type": "markdown",
   "id": "99882498",
   "metadata": {},
   "source": [
    "# SYSTEM OF LINEAR EQUATIONS"
   ]
  },
  {
   "cell_type": "markdown",
   "id": "8ed63fc6",
   "metadata": {},
   "source": [
    "## Example system: AX = B"
   ]
  },
  {
   "cell_type": "code",
   "execution_count": null,
   "id": "0956a35e",
   "metadata": {},
   "outputs": [
    {
     "name": "stdout",
     "output_type": "stream",
     "text": [
      "System of Linear Equations: AX = B\n",
      "Coefficient matrix A = \n",
      "tensor([[ 2.,  3.,  5.],\n",
      "        [ 4., -2., -7.],\n",
      "        [ 9.,  5., -3.]])\n",
      "Constants vector B = \n",
      "tensor([[1.],\n",
      "        [8.],\n",
      "        [2.]])\n"
     ]
    }
   ],
   "source": [
    "print(\"System of Linear Equations: AX = B\")\n",
    "\n",
    "# Coefficient matrix A and constant vector B\n",
    "A = torch.tensor([[2, 3, 5], \n",
    "                    [4, -2, -7], \n",
    "                    [9, 5, -3]], dtype=torch.float32)\n",
    "B = torch.tensor([[1], [8], [2]], dtype=torch.float32)\n",
    "\n",
    "print(f\"Coefficient matrix A = \\n{A}\")\n",
    "print(f\"Constants vector B = \\n{B}\")"
   ]
  },
  {
   "cell_type": "markdown",
   "id": "8f5c120f",
   "metadata": {},
   "source": [
    "##  Method 1: Using matrix inverse"
   ]
  },
  {
   "cell_type": "code",
   "execution_count": 27,
   "id": "ec23e1e8",
   "metadata": {},
   "outputs": [
    {
     "name": "stdout",
     "output_type": "stream",
     "text": [
      "\n",
      "Method 1: Using Matrix Inverse (X = A^(-1) * B):\n",
      "A^(-1) = \n",
      "tensor([[ 0.3445,  0.2857, -0.0924],\n",
      "        [-0.4286, -0.4286,  0.2857],\n",
      "        [ 0.3193,  0.1429, -0.1345]])\n",
      "Solution X = A^(-1) @ B = \n",
      "tensor([[ 2.4454],\n",
      "        [-3.2857],\n",
      "        [ 1.1933]])\n",
      "Verification: A @ X = \n",
      "tensor([[1.0000],\n",
      "        [8.0000],\n",
      "        [2.0000]])\n",
      "Should equal B = \n",
      "tensor([[1.],\n",
      "        [8.],\n",
      "        [2.]])\n"
     ]
    }
   ],
   "source": [
    "print(\"\\nMethod 1: Using Matrix Inverse (X = A^(-1) * B):\")\n",
    "try:\n",
    "    A_inv = torch.inverse(A)\n",
    "    X_inverse = A_inv @ B\n",
    "    print(f\"A^(-1) = \\n{A_inv}\")\n",
    "    print(f\"Solution X = A^(-1) @ B = \\n{X_inverse}\")\n",
    "    \n",
    "    # Verification\n",
    "    verification = A @ X_inverse\n",
    "    print(f\"Verification: A @ X = \\n{verification}\")\n",
    "    print(f\"Should equal B = \\n{B}\")\n",
    "except:\n",
    "    print(\"Matrix is singular (non-invertible)\")"
   ]
  },
  {
   "cell_type": "markdown",
   "id": "3e9cb3cf",
   "metadata": {},
   "source": [
    "## Method 2: Using torch.linalg.solve (more numerically stable)"
   ]
  },
  {
   "cell_type": "code",
   "execution_count": 28,
   "id": "d3351510",
   "metadata": {},
   "outputs": [
    {
     "name": "stdout",
     "output_type": "stream",
     "text": [
      "\n",
      "Method 2: Using torch.linalg.solve:\n",
      "Solution X = \n",
      "tensor([[ 2.4454],\n",
      "        [-3.2857],\n",
      "        [ 1.1933]])\n",
      "Verification: A @ X = \n",
      "tensor([[1.0000],\n",
      "        [8.0000],\n",
      "        [2.0000]])\n"
     ]
    }
   ],
   "source": [
    "print(\"\\nMethod 2: Using torch.linalg.solve:\")\n",
    "X_solve = torch.linalg.solve(A, B)\n",
    "print(f\"Solution X = \\n{X_solve}\")\n",
    "\n",
    "# Verification\n",
    "verification_solve = A @ X_solve\n",
    "print(f\"Verification: A @ X = \\n{verification_solve}\")"
   ]
  },
  {
   "cell_type": "markdown",
   "id": "7b1f5b35",
   "metadata": {},
   "source": [
    "## Gaussian Elimination Step by Step"
   ]
  },
  {
   "cell_type": "code",
   "execution_count": 29,
   "id": "23658906",
   "metadata": {},
   "outputs": [
    {
     "name": "stdout",
     "output_type": "stream",
     "text": [
      "Starting with augmented matrix [A|B]:\n",
      "Augmented matrix = \n",
      "tensor([[ 2.,  3.,  5.,  1.],\n",
      "        [ 4., -2., -7.,  8.],\n",
      "        [ 9.,  5., -3.,  2.]])\n",
      "\n",
      "Step 1: Scale first row to get pivot = 1\n",
      "After scaling R1 by 1/2: \n",
      "tensor([[ 1.0000,  1.5000,  2.5000,  0.5000],\n",
      "        [ 4.0000, -2.0000, -7.0000,  8.0000],\n",
      "        [ 9.0000,  5.0000, -3.0000,  2.0000]])\n",
      "\n",
      "Step 2: Eliminate below first pivot\n",
      "After eliminating below pivot: \n",
      "tensor([[  1.0000,   1.5000,   2.5000,   0.5000],\n",
      "        [  0.0000,  -8.0000, -17.0000,   6.0000],\n",
      "        [  0.0000,  -8.5000, -25.5000,  -2.5000]])\n",
      "\n",
      "Step 3: Scale second row to get pivot = 1\n",
      "After scaling R2: \n",
      "tensor([[  1.0000,   1.5000,   2.5000,   0.5000],\n",
      "        [ -0.0000,   1.0000,   2.1250,  -0.7500],\n",
      "        [  0.0000,  -8.5000, -25.5000,  -2.5000]])\n",
      "\n",
      "Step 4: Eliminate below second pivot\n",
      "After eliminating below second pivot: \n",
      "tensor([[ 1.0000,  1.5000,  2.5000,  0.5000],\n",
      "        [-0.0000,  1.0000,  2.1250, -0.7500],\n",
      "        [ 0.0000,  0.0000, -7.4375, -8.8750]])\n",
      "\n",
      "Step 5: Scale third row to get pivot = 1\n",
      "Final REF form: \n",
      "tensor([[ 1.0000,  1.5000,  2.5000,  0.5000],\n",
      "        [-0.0000,  1.0000,  2.1250, -0.7500],\n",
      "        [-0.0000, -0.0000,  1.0000,  1.1933]])\n",
      "\n",
      "Back-substitution solution:\n",
      "x3 = 1.193277359008789\n",
      "x2 = -3.2857143878936768\n",
      "x1 = 2.445378303527832\n",
      "Solution vector: [2.445378303527832, -3.2857143878936768, 1.193277359008789]\n"
     ]
    }
   ],
   "source": [
    "\n",
    "print(\"Starting with augmented matrix [A|B]:\")\n",
    "# Create augmented matrix for the system\n",
    "A_orig = torch.tensor([[2, 3, 5], \n",
    "                       [4, -2, -7], \n",
    "                       [9, 5, -3]], dtype=torch.float32)\n",
    "B_orig = torch.tensor([[1], [8], [2]], dtype=torch.float32)\n",
    "\n",
    "# Create augmented matrix\n",
    "augmented = torch.cat([A_orig, B_orig], dim=1)\n",
    "print(f\"Augmented matrix = \\n{augmented}\")\n",
    "\n",
    "# Manual Gaussian elimination steps (simplified version)\n",
    "print(\"\\nStep 1: Scale first row to get pivot = 1\")\n",
    "augmented[0] = augmented[0] / augmented[0, 0]\n",
    "print(f\"After scaling R1 by 1/2: \\n{augmented}\")\n",
    "\n",
    "print(\"\\nStep 2: Eliminate below first pivot\")\n",
    "augmented[1] = augmented[1] - 4 * augmented[0]\n",
    "augmented[2] = augmented[2] - 9 * augmented[0]\n",
    "print(f\"After eliminating below pivot: \\n{augmented}\")\n",
    "\n",
    "print(\"\\nStep 3: Scale second row to get pivot = 1\")\n",
    "augmented[1] = augmented[1] / augmented[1, 1]\n",
    "print(f\"After scaling R2: \\n{augmented}\")\n",
    "\n",
    "print(\"\\nStep 4: Eliminate below second pivot\")\n",
    "augmented[2] = augmented[2] - augmented[2, 1] * augmented[1]\n",
    "print(f\"After eliminating below second pivot: \\n{augmented}\")\n",
    "\n",
    "print(\"\\nStep 5: Scale third row to get pivot = 1\")\n",
    "augmented[2] = augmented[2] / augmented[2, 2]\n",
    "print(f\"Final REF form: \\n{augmented}\")\n",
    "\n",
    "# Extract solution using back-substitution\n",
    "x3 = augmented[2, 3]\n",
    "x2 = augmented[1, 3] - augmented[1, 2] * x3\n",
    "x1 = augmented[0, 3] - augmented[0, 2] * x3 - augmented[0, 1] * x2\n",
    "\n",
    "print(f\"\\nBack-substitution solution:\")\n",
    "print(f\"x3 = {x3}\")\n",
    "print(f\"x2 = {x2}\")\n",
    "print(f\"x1 = {x1}\")\n",
    "print(f\"Solution vector: [{x1}, {x2}, {x3}]\")"
   ]
  },
  {
   "cell_type": "markdown",
   "id": "d1ed715d",
   "metadata": {},
   "source": [
    "## Linear Independence"
   ]
  },
  {
   "cell_type": "code",
   "execution_count": 30,
   "id": "bfaf9b55",
   "metadata": {},
   "outputs": [
    {
     "name": "stdout",
     "output_type": "stream",
     "text": [
      "Example 1: Testing linear independence\n",
      "Matrix with vectors as columns: \n",
      "tensor([[1., 2.],\n",
      "        [2., 3.]])\n",
      "Determinant: -1.0\n",
      "Linearly independent? True\n"
     ]
    }
   ],
   "source": [
    "# Example 1: Linearly independent vectors\n",
    "print(\"Example 1: Testing linear independence\")\n",
    "v1 = torch.tensor([1, 2], dtype=torch.float32)\n",
    "v2 = torch.tensor([2, 3], dtype=torch.float32)\n",
    "\n",
    "# Create matrix with vectors as columns\n",
    "vectors_matrix = torch.stack([v1, v2], dim=1)\n",
    "print(f\"Matrix with vectors as columns: \\n{vectors_matrix}\")\n",
    "\n",
    "# Check determinant (for square matrices)\n",
    "det_vectors = torch.det(vectors_matrix)\n",
    "print(f\"Determinant: {det_vectors}\")\n",
    "print(f\"Linearly independent? {abs(det_vectors) > 1e-6}\")"
   ]
  },
  {
   "cell_type": "code",
   "execution_count": 31,
   "id": "bc19149d",
   "metadata": {},
   "outputs": [
    {
     "name": "stdout",
     "output_type": "stream",
     "text": [
      "\n",
      "Example 2: Linearly dependent vectors\n",
      "Matrix with dependent vectors: \n",
      "tensor([[1., 2.],\n",
      "        [2., 4.]])\n",
      "Determinant: -0.0\n",
      "Linearly independent? False\n"
     ]
    }
   ],
   "source": [
    "# Example 2: Linearly dependent vectors\n",
    "print(\"\\nExample 2: Linearly dependent vectors\")\n",
    "v3 = torch.tensor([1, 2], dtype=torch.float32)\n",
    "v4 = torch.tensor([2, 4], dtype=torch.float32)  # v4 = 2 * v3\n",
    "\n",
    "dependent_matrix = torch.stack([v3, v4], dim=1)\n",
    "print(f\"Matrix with dependent vectors: \\n{dependent_matrix}\")\n",
    "\n",
    "det_dependent = torch.det(dependent_matrix)\n",
    "print(f\"Determinant: {det_dependent}\")\n",
    "print(f\"Linearly independent? {abs(det_dependent) > 1e-6}\")"
   ]
  },
  {
   "cell_type": "markdown",
   "id": "d38bd6cd",
   "metadata": {},
   "source": [
    "## Basis and Dimensions"
   ]
  },
  {
   "cell_type": "code",
   "execution_count": 32,
   "id": "feb70cf3",
   "metadata": {},
   "outputs": [
    {
     "name": "stdout",
     "output_type": "stream",
     "text": [
      "Standard basis for R^3:\n",
      "Standard basis matrix: \n",
      "tensor([[1., 0., 0.],\n",
      "        [0., 1., 0.],\n",
      "        [0., 0., 1.]])\n",
      "\n",
      "Vector x = tensor([ 5.,  3., -2.])\n",
      "x = 5.0*e1 + 3.0*e2 + -2.0*e3\n",
      "x = 5.0*tensor([1., 0., 0.]) + 3.0*tensor([0., 1., 0.]) + -2.0*tensor([0., 0., 1.])\n",
      "Reconstructed vector: tensor([ 5.,  3., -2.])\n",
      "Original == Reconstructed? True\n"
     ]
    }
   ],
   "source": [
    "print(\"Standard basis for R^3:\")\n",
    "e1 = torch.tensor([1, 0, 0], dtype=torch.float32)\n",
    "e2 = torch.tensor([0, 1, 0], dtype=torch.float32)\n",
    "e3 = torch.tensor([0, 0, 1], dtype=torch.float32)\n",
    "\n",
    "standard_basis = torch.stack([e1, e2, e3], dim=1)\n",
    "print(f\"Standard basis matrix: \\n{standard_basis}\")\n",
    "\n",
    "# Express a vector in terms of standard basis\n",
    "x = torch.tensor([5, 3, -2], dtype=torch.float32)\n",
    "print(f\"\\nVector x = {x}\")\n",
    "print(f\"x = {x[0]}*e1 + {x[1]}*e2 + {x[2]}*e3\")\n",
    "print(f\"x = {x[0]}*{e1} + {x[1]}*{e2} + {x[2]}*{e3}\")\n",
    "\n",
    "# Verify\n",
    "reconstructed = x[0]*e1 + x[1]*e2 + x[2]*e3\n",
    "print(f\"Reconstructed vector: {reconstructed}\")\n",
    "print(f\"Original == Reconstructed? {torch.allclose(x, reconstructed)}\")\n"
   ]
  },
  {
   "cell_type": "markdown",
   "id": "5285b84f",
   "metadata": {},
   "source": [
    "# Eigenvector and Eigenvalues"
   ]
  },
  {
   "cell_type": "markdown",
   "id": "cdf0fa08",
   "metadata": {},
   "source": [
    "## Numpy Implementation"
   ]
  },
  {
   "cell_type": "code",
   "execution_count": null,
   "id": "e242551c",
   "metadata": {},
   "outputs": [
    {
     "name": "stdout",
     "output_type": "stream",
     "text": [
      "Eigenvalues: [5. 2.]\n",
      "Eigenvectors:\n",
      "[[ 0.70710678 -0.4472136 ]\n",
      " [ 0.70710678  0.89442719]]\n"
     ]
    }
   ],
   "source": [
    "import numpy as np\n",
    "\n",
    "# Define a 2x2 matrix\n",
    "A = np.array([[4, 1],\n",
    "                [2, 3]])\n",
    "\n",
    "# Compute eigenvalues and eigenvectors\n",
    "eigenvals, eigenvecs = np.linalg.eig(A)\n",
    "\n",
    "print(\"Eigenvalues:\", eigenvals)\n",
    "print(\"Eigenvectors:\")\n",
    "print(eigenvecs)"
   ]
  },
  {
   "cell_type": "markdown",
   "id": "5b869b6b",
   "metadata": {},
   "source": [
    "## PyTorch Implementation"
   ]
  },
  {
   "cell_type": "code",
   "execution_count": 1,
   "id": "34881150",
   "metadata": {},
   "outputs": [
    {
     "name": "stdout",
     "output_type": "stream",
     "text": [
      "Matrix A:\n",
      "tensor([[4., 1.],\n",
      "        [2., 3.]])\n",
      "Eigenvalues: tensor([5.0000+0.j, 2.0000+0.j])\n",
      "Eigenvectors:\n",
      "tensor([[ 0.7071+0.j, -0.4472+0.j],\n",
      "        [ 0.7071+0.j,  0.8944+0.j]])\n"
     ]
    }
   ],
   "source": [
    "import torch\n",
    "\n",
    "# Create a matrix\n",
    "A = torch.tensor([[4.0, 1.0],\n",
    "                [2.0, 3.0]], dtype=torch.float32)\n",
    "\n",
    "# Compute eigenvalues and eigenvectors\n",
    "eigenvals, eigenvecs = torch.linalg.eig(A)\n",
    "\n",
    "print(\"Matrix A:\")\n",
    "print(A)\n",
    "print(\"Eigenvalues:\", eigenvals)\n",
    "print(\"Eigenvectors:\")\n",
    "print(eigenvecs)"
   ]
  },
  {
   "cell_type": "code",
   "execution_count": 4,
   "id": "def4de2a",
   "metadata": {},
   "outputs": [
    {
     "name": "stdout",
     "output_type": "stream",
     "text": [
      "Gradient of largest eigenvalue:\n",
      "tensor([[0.6213, 0.4851],\n",
      "        [0.4851, 0.3787]])\n"
     ]
    }
   ],
   "source": [
    "# Matrix with gradient tracking\n",
    "A = torch.tensor([[4.0, 1.0],\n",
    "                [2.0, 3.0]], requires_grad=True)\n",
    "# Compute largest eigenvalue\n",
    "eigenvals, _ = torch.linalg.eigh(A)\n",
    "largest_eigenval = eigenvals[-1]\n",
    "# Backpropagation\n",
    "largest_eigenval.backward()\n",
    "print(\"Gradient of largest eigenvalue:\")\n",
    "print(A.grad)"
   ]
  },
  {
   "cell_type": "code",
   "execution_count": null,
   "id": "3171980b",
   "metadata": {},
   "outputs": [],
   "source": []
  }
 ],
 "metadata": {
  "kernelspec": {
   "display_name": "Code (3.12.8)",
   "language": "python",
   "name": "python3"
  },
  "language_info": {
   "codemirror_mode": {
    "name": "ipython",
    "version": 3
   },
   "file_extension": ".py",
   "mimetype": "text/x-python",
   "name": "python",
   "nbconvert_exporter": "python",
   "pygments_lexer": "ipython3",
   "version": "3.12.8"
  }
 },
 "nbformat": 4,
 "nbformat_minor": 5
}
